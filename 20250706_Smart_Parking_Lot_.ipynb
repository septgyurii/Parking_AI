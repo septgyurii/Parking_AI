{
  "nbformat": 4,
  "nbformat_minor": 0,
  "metadata": {
    "colab": {
      "provenance": [],
      "gpuType": "T4",
      "include_colab_link": true
    },
    "kernelspec": {
      "name": "python3",
      "display_name": "Python 3"
    },
    "language_info": {
      "name": "python"
    },
    "accelerator": "GPU"
  },
  "cells": [
    {
      "cell_type": "markdown",
      "metadata": {
        "id": "view-in-github",
        "colab_type": "text"
      },
      "source": [
        "<a href=\"https://colab.research.google.com/github/septgyurii/Parking_AI/blob/main/20250706_Smart_Parking_Lot_.ipynb\" target=\"_parent\"><img src=\"https://colab.research.google.com/assets/colab-badge.svg\" alt=\"Open In Colab\"/></a>"
      ]
    },
    {
      "cell_type": "code",
      "source": [
        "# ✅ NumPy 다운그레이드\n",
        "%pip install numpy==1.24.3 --force-reinstall\n",
        "\n",
        "# ✅ 런타임 재시작 필수\n",
        "import os\n",
        "os.kill(os.getpid(), 9)"
      ],
      "metadata": {
        "colab": {
          "base_uri": "https://localhost:8080/"
        },
        "id": "aoQiNqrAJy49",
        "outputId": "1c8a2e6d-1de2-444d-c26f-caf400d17c52"
      },
      "execution_count": null,
      "outputs": [
        {
          "output_type": "stream",
          "name": "stdout",
          "text": [
            "Collecting numpy==1.24.3\n",
            "  Using cached numpy-1.24.3-cp311-cp311-manylinux_2_17_x86_64.manylinux2014_x86_64.whl.metadata (5.6 kB)\n",
            "Using cached numpy-1.24.3-cp311-cp311-manylinux_2_17_x86_64.manylinux2014_x86_64.whl (17.3 MB)\n",
            "Installing collected packages: numpy\n",
            "  Attempting uninstall: numpy\n",
            "    Found existing installation: numpy 1.24.3\n",
            "    Uninstalling numpy-1.24.3:\n",
            "      Successfully uninstalled numpy-1.24.3\n",
            "\u001b[31mERROR: pip's dependency resolver does not currently take into account all the packages that are installed. This behaviour is the source of the following dependency conflicts.\n",
            "blosc2 3.5.0 requires numpy>=1.26, but you have numpy 1.24.3 which is incompatible.\n",
            "treescope 0.1.9 requires numpy>=1.25.2, but you have numpy 1.24.3 which is incompatible.\n",
            "tensorflow 2.18.0 requires numpy<2.1.0,>=1.26.0, but you have numpy 1.24.3 which is incompatible.\n",
            "albumentations 2.0.8 requires numpy>=1.24.4, but you have numpy 1.24.3 which is incompatible.\n",
            "xarray-einstats 0.9.1 requires numpy>=1.25, but you have numpy 1.24.3 which is incompatible.\n",
            "pymc 5.23.0 requires numpy>=1.25.0, but you have numpy 1.24.3 which is incompatible.\n",
            "albucore 0.0.24 requires numpy>=1.24.4, but you have numpy 1.24.3 which is incompatible.\n",
            "thinc 8.3.6 requires numpy<3.0.0,>=2.0.0, but you have numpy 1.24.3 which is incompatible.\n",
            "jax 0.5.2 requires numpy>=1.25, but you have numpy 1.24.3 which is incompatible.\n",
            "jaxlib 0.5.1 requires numpy>=1.25, but you have numpy 1.24.3 which is incompatible.\u001b[0m\u001b[31m\n",
            "\u001b[0mSuccessfully installed numpy-1.24.3\n"
          ]
        }
      ]
    },
    {
      "cell_type": "code",
      "source": [
        "# YOLOv5와 가장 잘 맞는 PyTorch 2.1.0 설치\n",
        "%pip install torch==2.1.0 torchvision torchaudio --index-url https://download.pytorch.org/whl/cu118"
      ],
      "metadata": {
        "id": "WfNAx5EICwbt",
        "colab": {
          "base_uri": "https://localhost:8080/"
        },
        "outputId": "f83edfac-a5df-4cf1-e3d6-1cafef09ea69"
      },
      "execution_count": 1,
      "outputs": [
        {
          "output_type": "stream",
          "name": "stdout",
          "text": [
            "Looking in indexes: https://download.pytorch.org/whl/cu118\n",
            "Requirement already satisfied: torch==2.1.0 in /usr/local/lib/python3.11/dist-packages (2.1.0+cu118)\n",
            "Requirement already satisfied: torchvision in /usr/local/lib/python3.11/dist-packages (0.16.0+cu118)\n",
            "Requirement already satisfied: torchaudio in /usr/local/lib/python3.11/dist-packages (2.1.0+cu118)\n",
            "Requirement already satisfied: filelock in /usr/local/lib/python3.11/dist-packages (from torch==2.1.0) (3.18.0)\n",
            "Requirement already satisfied: typing-extensions in /usr/local/lib/python3.11/dist-packages (from torch==2.1.0) (4.14.0)\n",
            "Requirement already satisfied: sympy in /usr/local/lib/python3.11/dist-packages (from torch==2.1.0) (1.13.1)\n",
            "Requirement already satisfied: networkx in /usr/local/lib/python3.11/dist-packages (from torch==2.1.0) (3.5)\n",
            "Requirement already satisfied: jinja2 in /usr/local/lib/python3.11/dist-packages (from torch==2.1.0) (3.1.6)\n",
            "Requirement already satisfied: fsspec in /usr/local/lib/python3.11/dist-packages (from torch==2.1.0) (2025.3.2)\n",
            "Requirement already satisfied: triton==2.1.0 in /usr/local/lib/python3.11/dist-packages (from torch==2.1.0) (2.1.0)\n",
            "Requirement already satisfied: numpy in /usr/local/lib/python3.11/dist-packages (from torchvision) (1.24.3)\n",
            "Requirement already satisfied: requests in /usr/local/lib/python3.11/dist-packages (from torchvision) (2.32.3)\n",
            "Requirement already satisfied: pillow!=8.3.*,>=5.3.0 in /usr/local/lib/python3.11/dist-packages (from torchvision) (11.2.1)\n",
            "Requirement already satisfied: MarkupSafe>=2.0 in /usr/local/lib/python3.11/dist-packages (from jinja2->torch==2.1.0) (3.0.2)\n",
            "Requirement already satisfied: charset-normalizer<4,>=2 in /usr/local/lib/python3.11/dist-packages (from requests->torchvision) (3.4.2)\n",
            "Requirement already satisfied: idna<4,>=2.5 in /usr/local/lib/python3.11/dist-packages (from requests->torchvision) (3.10)\n",
            "Requirement already satisfied: urllib3<3,>=1.21.1 in /usr/local/lib/python3.11/dist-packages (from requests->torchvision) (2.4.0)\n",
            "Requirement already satisfied: certifi>=2017.4.17 in /usr/local/lib/python3.11/dist-packages (from requests->torchvision) (2025.6.15)\n",
            "Requirement already satisfied: mpmath<1.4,>=1.1.0 in /usr/local/lib/python3.11/dist-packages (from sympy->torch==2.1.0) (1.3.0)\n"
          ]
        }
      ]
    },
    {
      "cell_type": "code",
      "source": [
        "import zipfile\n",
        "import os\n",
        "from google.colab import drive\n",
        "\n",
        "# 1) Google Drive 마운트\n",
        "drive.mount('/content/drive')\n",
        "\n",
        "# 2) 압축 파일(.zip) 경로\n",
        "zip_path = \"/content/drive/MyDrive/Colab Notebooks/test_imgs.zip\"\n",
        "\n",
        "# 3) 압축 해제할 경로\n",
        "extract_path = \"/content/drive/MyDrive/Colab Notebooks\"\n",
        "\n",
        "# 4) .zip 압축 해제\n",
        "with zipfile.ZipFile(zip_path, 'r') as zf:\n",
        "    zf.extractall(path=extract_path)\n",
        "\n",
        "print(\"✅ 압축 해제 완료:\", extract_path)\n"
      ],
      "metadata": {
        "colab": {
          "base_uri": "https://localhost:8080/"
        },
        "id": "UF3ZQvzRUGON",
        "outputId": "1b950644-055d-45dc-adaf-b039ede1c1f3"
      },
      "execution_count": 2,
      "outputs": [
        {
          "output_type": "stream",
          "name": "stdout",
          "text": [
            "Drive already mounted at /content/drive; to attempt to forcibly remount, call drive.mount(\"/content/drive\", force_remount=True).\n",
            "✅ 압축 해제 완료: /content/drive/MyDrive/Colab Notebooks\n"
          ]
        }
      ]
    },
    {
      "cell_type": "code",
      "source": [
        "import tarfile\n",
        "import os\n",
        "\n",
        "from google.colab import drive\n",
        "drive.mount('/content/drive')\n",
        "\n",
        "\n",
        "tar_path = '/content/drive/MyDrive/Colab Notebooks/car_yolo.tar'\n",
        "extract_dir = '/content/car_yolo_raw'\n",
        "\n",
        "os.makedirs(extract_dir, exist_ok=True)\n",
        "with tarfile.open(tar_path, 'r') as tar:\n",
        "    tar.extractall(path=extract_dir)\n",
        "\n",
        "print(\"✅ 압축 해제 완료:\", extract_dir)"
      ],
      "metadata": {
        "colab": {
          "base_uri": "https://localhost:8080/"
        },
        "id": "tiW-macvZOOi",
        "outputId": "b9590d13-4f5e-46d2-c571-47e6149831f3"
      },
      "execution_count": 3,
      "outputs": [
        {
          "output_type": "stream",
          "name": "stdout",
          "text": [
            "Drive already mounted at /content/drive; to attempt to forcibly remount, call drive.mount(\"/content/drive\", force_remount=True).\n",
            "✅ 압축 해제 완료: /content/car_yolo_raw\n"
          ]
        }
      ]
    },
    {
      "cell_type": "code",
      "source": [
        "import shutil\n",
        "\n",
        "yolo_base = \"/content/car_yolo_yolov5\"\n",
        "img_src = os.path.join(extract_dir, \"ds/img\")\n",
        "json_src = os.path.join(extract_dir, \"ds/ann\")\n",
        "\n",
        "img_dst = os.path.join(yolo_base, \"images/train\")\n",
        "label_dst = os.path.join(yolo_base, \"labels/train\")\n",
        "\n",
        "os.makedirs(img_dst, exist_ok=True)\n",
        "os.makedirs(label_dst, exist_ok=True)\n",
        "\n",
        "# 이미지 복사\n",
        "for fname in os.listdir(img_src):\n",
        "    if fname.endswith(\".png\"):\n",
        "        shutil.copy(os.path.join(img_src, fname), os.path.join(img_dst, fname))\n"
      ],
      "metadata": {
        "id": "BXmjCFe4ZfWJ"
      },
      "execution_count": 4,
      "outputs": []
    },
    {
      "cell_type": "code",
      "source": [
        "import json\n",
        "\n",
        "sample_json = os.path.join(json_src, os.listdir(json_src)[0])\n",
        "with open(sample_json) as f:\n",
        "    data = json.load(f)\n",
        "\n",
        "print(json.dumps(data, indent=2))"
      ],
      "metadata": {
        "id": "CTDTHJYEpl1G",
        "colab": {
          "base_uri": "https://localhost:8080/"
        },
        "outputId": "0b5f18d1-d271-485d-9c41-6045685e97f9"
      },
      "execution_count": 5,
      "outputs": [
        {
          "output_type": "stream",
          "name": "stdout",
          "text": [
            "{\n",
            "  \"description\": \"\",\n",
            "  \"tags\": [],\n",
            "  \"size\": {\n",
            "    \"height\": 300,\n",
            "    \"width\": 400\n",
            "  },\n",
            "  \"objects\": [\n",
            "    {\n",
            "      \"id\": 6325301,\n",
            "      \"classId\": 8709,\n",
            "      \"description\": \"\",\n",
            "      \"geometryType\": \"rectangle\",\n",
            "      \"labelerLogin\": \"az@datasetninja.com\",\n",
            "      \"createdAt\": \"2023-06-13T22:38:53.151Z\",\n",
            "      \"updatedAt\": \"2023-06-13T22:38:53.151Z\",\n",
            "      \"tags\": [],\n",
            "      \"classTitle\": \"license plate\",\n",
            "      \"points\": {\n",
            "        \"exterior\": [\n",
            "          [\n",
            "            200,\n",
            "            149\n",
            "          ],\n",
            "          [\n",
            "            251,\n",
            "            167\n",
            "          ]\n",
            "        ],\n",
            "        \"interior\": []\n",
            "      }\n",
            "    }\n",
            "  ]\n",
            "}\n"
          ]
        }
      ]
    },
    {
      "cell_type": "code",
      "source": [
        "import os\n",
        "import json\n",
        "\n",
        "json_dir = '/content/car_yolo_raw/ds/ann'\n",
        "label_dir = '/content/car_yolo_yolov5/labels/train'\n",
        "os.makedirs(label_dir, exist_ok=True)\n",
        "\n",
        "def convert_json_to_yolo(json_path, output_path):\n",
        "    with open(json_path, 'r') as f:\n",
        "        data = json.load(f)\n",
        "\n",
        "    img_width = data['size']['width']\n",
        "    img_height = data['size']['height']\n",
        "\n",
        "    yolo_lines = []\n",
        "\n",
        "    for obj in data['objects']:\n",
        "        if obj['classTitle'] != 'license plate':\n",
        "            continue  # skip other classes if any\n",
        "\n",
        "        # Bounding box corners\n",
        "        (x_min, y_min), (x_max, y_max) = obj['points']['exterior']\n",
        "\n",
        "        # YOLO format\n",
        "        x_center = ((x_min + x_max) / 2) / img_width\n",
        "        y_center = ((y_min + y_max) / 2) / img_height\n",
        "        width = (x_max - x_min) / img_width\n",
        "        height = (y_max - y_min) / img_height\n",
        "\n",
        "        line = f\"0 {x_center:.6f} {y_center:.6f} {width:.6f} {height:.6f}\"\n",
        "        yolo_lines.append(line)\n",
        "\n",
        "    # Save to .txt with same base filename\n",
        "    txt_filename = os.path.basename(json_path).replace('.json', '.txt')\n",
        "    txt_path = os.path.join(output_path, txt_filename)\n",
        "\n",
        "    with open(txt_path, 'w') as f:\n",
        "        f.write('\\n'.join(yolo_lines))\n",
        "\n",
        "# 전체 변환 실행\n",
        "for fname in os.listdir(json_dir):\n",
        "    if fname.endswith('.json'):\n",
        "        convert_json_to_yolo(os.path.join(json_dir, fname), label_dir)\n",
        "\n",
        "print(\"✅ YOLOv5 라벨(txt) 파일 생성 완료:\", label_dir)\n"
      ],
      "metadata": {
        "id": "uQ6q0qy2GHo1",
        "colab": {
          "base_uri": "https://localhost:8080/"
        },
        "outputId": "3fc397e8-eac9-47eb-bbc3-9707217f8229"
      },
      "execution_count": 6,
      "outputs": [
        {
          "output_type": "stream",
          "name": "stdout",
          "text": [
            "✅ YOLOv5 라벨(txt) 파일 생성 완료: /content/car_yolo_yolov5/labels/train\n"
          ]
        }
      ]
    },
    {
      "cell_type": "code",
      "source": [
        "yaml_content = \"\"\"\n",
        "train: /content/car_yolo_yolov5/images/train\n",
        "val: /content/car_yolo_yolov5/images/train\n",
        "\n",
        "nc: 1\n",
        "names: ['license plate']\n",
        "\"\"\"\n",
        "\n",
        "with open('/content/car_yolo_yolov5/data.yaml', 'w') as f:\n",
        "    f.write(yaml_content)\n",
        "\n",
        "print(\"✅ data.yaml 생성 완료!\")"
      ],
      "metadata": {
        "id": "l3yUgsV1J_pW",
        "colab": {
          "base_uri": "https://localhost:8080/"
        },
        "outputId": "777df00a-6f87-452b-d2f8-2101c20b230c"
      },
      "execution_count": 7,
      "outputs": [
        {
          "output_type": "stream",
          "name": "stdout",
          "text": [
            "✅ data.yaml 생성 완료!\n"
          ]
        }
      ]
    },
    {
      "cell_type": "code",
      "source": [
        "!git clone https://github.com/ultralytics/yolov5.git\n",
        "%cd yolov5\n",
        "%pip install -r requirements.txt"
      ],
      "metadata": {
        "id": "8NeCa0KcNUKb",
        "colab": {
          "base_uri": "https://localhost:8080/"
        },
        "outputId": "93db6894-06d1-4b55-fab1-0e7a301f0222"
      },
      "execution_count": 8,
      "outputs": [
        {
          "output_type": "stream",
          "name": "stdout",
          "text": [
            "Cloning into 'yolov5'...\n",
            "remote: Enumerating objects: 17511, done.\u001b[K\n",
            "remote: Counting objects: 100% (20/20), done.\u001b[K\n",
            "remote: Compressing objects: 100% (20/20), done.\u001b[K\n",
            "remote: Total 17511 (delta 5), reused 0 (delta 0), pack-reused 17491 (from 3)\u001b[K\n",
            "Receiving objects: 100% (17511/17511), 16.62 MiB | 17.49 MiB/s, done.\n",
            "Resolving deltas: 100% (12000/12000), done.\n",
            "/content/yolov5\n",
            "Requirement already satisfied: gitpython>=3.1.30 in /usr/local/lib/python3.11/dist-packages (from -r requirements.txt (line 5)) (3.1.44)\n",
            "Requirement already satisfied: matplotlib>=3.3 in /usr/local/lib/python3.11/dist-packages (from -r requirements.txt (line 6)) (3.10.0)\n",
            "Requirement already satisfied: numpy>=1.23.5 in /usr/local/lib/python3.11/dist-packages (from -r requirements.txt (line 7)) (1.24.3)\n",
            "Requirement already satisfied: opencv-python>=4.1.1 in /usr/local/lib/python3.11/dist-packages (from -r requirements.txt (line 8)) (4.11.0.86)\n",
            "Requirement already satisfied: pillow>=10.3.0 in /usr/local/lib/python3.11/dist-packages (from -r requirements.txt (line 9)) (11.2.1)\n",
            "Requirement already satisfied: psutil in /usr/local/lib/python3.11/dist-packages (from -r requirements.txt (line 10)) (5.9.5)\n",
            "Requirement already satisfied: PyYAML>=5.3.1 in /usr/local/lib/python3.11/dist-packages (from -r requirements.txt (line 11)) (6.0.2)\n",
            "Requirement already satisfied: requests>=2.32.2 in /usr/local/lib/python3.11/dist-packages (from -r requirements.txt (line 12)) (2.32.3)\n",
            "Requirement already satisfied: scipy>=1.4.1 in /usr/local/lib/python3.11/dist-packages (from -r requirements.txt (line 13)) (1.15.3)\n",
            "Collecting thop>=0.1.1 (from -r requirements.txt (line 14))\n",
            "  Downloading thop-0.1.1.post2209072238-py3-none-any.whl.metadata (2.7 kB)\n",
            "Requirement already satisfied: torch>=1.8.0 in /usr/local/lib/python3.11/dist-packages (from -r requirements.txt (line 15)) (2.1.0+cu118)\n",
            "Requirement already satisfied: torchvision>=0.9.0 in /usr/local/lib/python3.11/dist-packages (from -r requirements.txt (line 16)) (0.16.0+cu118)\n",
            "Requirement already satisfied: tqdm>=4.66.3 in /usr/local/lib/python3.11/dist-packages (from -r requirements.txt (line 17)) (4.67.1)\n",
            "Collecting ultralytics>=8.2.64 (from -r requirements.txt (line 18))\n",
            "  Downloading ultralytics-8.3.162-py3-none-any.whl.metadata (37 kB)\n",
            "Requirement already satisfied: pandas>=1.1.4 in /usr/local/lib/python3.11/dist-packages (from -r requirements.txt (line 27)) (2.2.2)\n",
            "Requirement already satisfied: seaborn>=0.11.0 in /usr/local/lib/python3.11/dist-packages (from -r requirements.txt (line 28)) (0.13.2)\n",
            "Requirement already satisfied: setuptools>=70.0.0 in /usr/local/lib/python3.11/dist-packages (from -r requirements.txt (line 42)) (75.2.0)\n",
            "Requirement already satisfied: gitdb<5,>=4.0.1 in /usr/local/lib/python3.11/dist-packages (from gitpython>=3.1.30->-r requirements.txt (line 5)) (4.0.12)\n",
            "Requirement already satisfied: contourpy>=1.0.1 in /usr/local/lib/python3.11/dist-packages (from matplotlib>=3.3->-r requirements.txt (line 6)) (1.3.2)\n",
            "Requirement already satisfied: cycler>=0.10 in /usr/local/lib/python3.11/dist-packages (from matplotlib>=3.3->-r requirements.txt (line 6)) (0.12.1)\n",
            "Requirement already satisfied: fonttools>=4.22.0 in /usr/local/lib/python3.11/dist-packages (from matplotlib>=3.3->-r requirements.txt (line 6)) (4.58.4)\n",
            "Requirement already satisfied: kiwisolver>=1.3.1 in /usr/local/lib/python3.11/dist-packages (from matplotlib>=3.3->-r requirements.txt (line 6)) (1.4.8)\n",
            "Requirement already satisfied: packaging>=20.0 in /usr/local/lib/python3.11/dist-packages (from matplotlib>=3.3->-r requirements.txt (line 6)) (24.2)\n",
            "Requirement already satisfied: pyparsing>=2.3.1 in /usr/local/lib/python3.11/dist-packages (from matplotlib>=3.3->-r requirements.txt (line 6)) (3.2.3)\n",
            "Requirement already satisfied: python-dateutil>=2.7 in /usr/local/lib/python3.11/dist-packages (from matplotlib>=3.3->-r requirements.txt (line 6)) (2.9.0.post0)\n",
            "Requirement already satisfied: charset-normalizer<4,>=2 in /usr/local/lib/python3.11/dist-packages (from requests>=2.32.2->-r requirements.txt (line 12)) (3.4.2)\n",
            "Requirement already satisfied: idna<4,>=2.5 in /usr/local/lib/python3.11/dist-packages (from requests>=2.32.2->-r requirements.txt (line 12)) (3.10)\n",
            "Requirement already satisfied: urllib3<3,>=1.21.1 in /usr/local/lib/python3.11/dist-packages (from requests>=2.32.2->-r requirements.txt (line 12)) (2.4.0)\n",
            "Requirement already satisfied: certifi>=2017.4.17 in /usr/local/lib/python3.11/dist-packages (from requests>=2.32.2->-r requirements.txt (line 12)) (2025.6.15)\n",
            "Requirement already satisfied: filelock in /usr/local/lib/python3.11/dist-packages (from torch>=1.8.0->-r requirements.txt (line 15)) (3.18.0)\n",
            "Requirement already satisfied: typing-extensions in /usr/local/lib/python3.11/dist-packages (from torch>=1.8.0->-r requirements.txt (line 15)) (4.14.0)\n",
            "Requirement already satisfied: sympy in /usr/local/lib/python3.11/dist-packages (from torch>=1.8.0->-r requirements.txt (line 15)) (1.13.1)\n",
            "Requirement already satisfied: networkx in /usr/local/lib/python3.11/dist-packages (from torch>=1.8.0->-r requirements.txt (line 15)) (3.5)\n",
            "Requirement already satisfied: jinja2 in /usr/local/lib/python3.11/dist-packages (from torch>=1.8.0->-r requirements.txt (line 15)) (3.1.6)\n",
            "Requirement already satisfied: fsspec in /usr/local/lib/python3.11/dist-packages (from torch>=1.8.0->-r requirements.txt (line 15)) (2025.3.2)\n",
            "Requirement already satisfied: triton==2.1.0 in /usr/local/lib/python3.11/dist-packages (from torch>=1.8.0->-r requirements.txt (line 15)) (2.1.0)\n",
            "Requirement already satisfied: py-cpuinfo in /usr/local/lib/python3.11/dist-packages (from ultralytics>=8.2.64->-r requirements.txt (line 18)) (9.0.0)\n",
            "Collecting ultralytics-thop>=2.0.0 (from ultralytics>=8.2.64->-r requirements.txt (line 18))\n",
            "  Downloading ultralytics_thop-2.0.14-py3-none-any.whl.metadata (9.4 kB)\n",
            "Requirement already satisfied: pytz>=2020.1 in /usr/local/lib/python3.11/dist-packages (from pandas>=1.1.4->-r requirements.txt (line 27)) (2025.2)\n",
            "Requirement already satisfied: tzdata>=2022.7 in /usr/local/lib/python3.11/dist-packages (from pandas>=1.1.4->-r requirements.txt (line 27)) (2025.2)\n",
            "Requirement already satisfied: smmap<6,>=3.0.1 in /usr/local/lib/python3.11/dist-packages (from gitdb<5,>=4.0.1->gitpython>=3.1.30->-r requirements.txt (line 5)) (5.0.2)\n",
            "Requirement already satisfied: six>=1.5 in /usr/local/lib/python3.11/dist-packages (from python-dateutil>=2.7->matplotlib>=3.3->-r requirements.txt (line 6)) (1.17.0)\n",
            "Requirement already satisfied: MarkupSafe>=2.0 in /usr/local/lib/python3.11/dist-packages (from jinja2->torch>=1.8.0->-r requirements.txt (line 15)) (3.0.2)\n",
            "Requirement already satisfied: mpmath<1.4,>=1.1.0 in /usr/local/lib/python3.11/dist-packages (from sympy->torch>=1.8.0->-r requirements.txt (line 15)) (1.3.0)\n",
            "Downloading thop-0.1.1.post2209072238-py3-none-any.whl (15 kB)\n",
            "Downloading ultralytics-8.3.162-py3-none-any.whl (1.0 MB)\n",
            "\u001b[2K   \u001b[90m━━━━━━━━━━━━━━━━━━━━━━━━━━━━━━━━━━━━━━━━\u001b[0m \u001b[32m1.0/1.0 MB\u001b[0m \u001b[31m55.9 MB/s\u001b[0m eta \u001b[36m0:00:00\u001b[0m\n",
            "\u001b[?25hDownloading ultralytics_thop-2.0.14-py3-none-any.whl (26 kB)\n",
            "Installing collected packages: ultralytics-thop, thop, ultralytics\n",
            "Successfully installed thop-0.1.1.post2209072238 ultralytics-8.3.162 ultralytics-thop-2.0.14\n"
          ]
        }
      ]
    },
    {
      "cell_type": "code",
      "source": [
        "# Colab에서 SummaryWriter 줄 주석 처리\n",
        "!sed -i 's/self.tb = SummaryWriter(str(s))/# self.tb = SummaryWriter(str(s))/g' /content/yolov5/utils/loggers/__init__.py\n",
        "# SummaryWriter import 라인 완전 주석 처리\n",
        "!sed -i 's/from torch.utils.tensorboard import SummaryWriter/# from torch.utils.tensorboard import SummaryWriter/g' /content/yolov5/utils/loggers/__init__.py\n",
        "# try 아래에 pass 문 추가\n",
        "!sed -i '21a\\    pass' /content/yolov5/utils/loggers/__init__.py\n"
      ],
      "metadata": {
        "id": "zknoU8tlMcdv"
      },
      "execution_count": 9,
      "outputs": []
    },
    {
      "cell_type": "code",
      "source": [
        "!python train.py \\\n",
        "  --img 640 \\\n",
        "  --batch 16 \\\n",
        "  --epochs 50 \\\n",
        "  --data /content/car_yolo_yolov5/data.yaml \\\n",
        "  --weights yolov5s.pt \\\n",
        "  --name plate_yolo_train \\\n",
        "  --exist-ok \\\n",
        "  --nosave \\\n",
        "  --noplots"
      ],
      "metadata": {
        "id": "Q2ZhJnCPN19Y",
        "colab": {
          "base_uri": "https://localhost:8080/"
        },
        "outputId": "634e5f47-721d-45bc-86d3-cfd111da3d32"
      },
      "execution_count": 10,
      "outputs": [
        {
          "output_type": "stream",
          "name": "stdout",
          "text": [
            "Creating new Ultralytics Settings v0.0.6 file ✅ \n",
            "View Ultralytics Settings with 'yolo settings' or at '/root/.config/Ultralytics/settings.json'\n",
            "Update Settings with 'yolo settings key=value', i.e. 'yolo settings runs_dir=path/to/dir'. For help see https://docs.ultralytics.com/quickstart/#ultralytics-settings.\n",
            "\u001b[34m\u001b[1mwandb\u001b[0m: WARNING ⚠️ wandb is deprecated and will be removed in a future release. See supported integrations at https://github.com/ultralytics/yolov5#integrations.\n",
            "\u001b[34m\u001b[1mwandb\u001b[0m: (1) Create a W&B account\n",
            "\u001b[34m\u001b[1mwandb\u001b[0m: (2) Use an existing W&B account\n",
            "\u001b[34m\u001b[1mwandb\u001b[0m: (3) Don't visualize my results\n",
            "\u001b[34m\u001b[1mwandb\u001b[0m: Enter your choice: (30 second timeout) \n",
            "\u001b[34m\u001b[1mwandb\u001b[0m: W&B disabled due to login timeout.\n",
            "\u001b[34m\u001b[1mtrain: \u001b[0mweights=yolov5s.pt, cfg=, data=/content/car_yolo_yolov5/data.yaml, hyp=data/hyps/hyp.scratch-low.yaml, epochs=50, batch_size=16, imgsz=640, rect=False, resume=False, nosave=True, noval=False, noautoanchor=False, noplots=True, evolve=None, evolve_population=data/hyps, resume_evolve=None, bucket=, cache=None, image_weights=False, device=, multi_scale=False, single_cls=False, optimizer=SGD, sync_bn=False, workers=8, project=runs/train, name=plate_yolo_train, exist_ok=True, quad=False, cos_lr=False, label_smoothing=0.0, patience=100, freeze=[0], save_period=-1, seed=0, local_rank=-1, entity=None, upload_dataset=False, bbox_interval=-1, artifact_alias=latest, ndjson_console=False, ndjson_file=False\n",
            "\u001b[34m\u001b[1mgithub: \u001b[0mup to date with https://github.com/ultralytics/yolov5 ✅\n",
            "YOLOv5 🚀 v7.0-422-g2540fd4c Python-3.11.13 torch-2.1.0+cu118 CUDA:0 (Tesla T4, 15095MiB)\n",
            "\n",
            "\u001b[34m\u001b[1mhyperparameters: \u001b[0mlr0=0.01, lrf=0.01, momentum=0.937, weight_decay=0.0005, warmup_epochs=3.0, warmup_momentum=0.8, warmup_bias_lr=0.1, box=0.05, cls=0.5, cls_pw=1.0, obj=1.0, obj_pw=1.0, iou_t=0.2, anchor_t=4.0, fl_gamma=0.0, hsv_h=0.015, hsv_s=0.7, hsv_v=0.4, degrees=0.0, translate=0.1, scale=0.5, shear=0.0, perspective=0.0, flipud=0.0, fliplr=0.5, mosaic=1.0, mixup=0.0, copy_paste=0.0\n",
            "\u001b[34m\u001b[1mComet: \u001b[0mrun 'pip install comet_ml' to automatically track and visualize YOLOv5 🚀 runs in Comet\n",
            "\u001b[34m\u001b[1mTensorBoard: \u001b[0mStart with 'tensorboard --logdir runs/train', view at http://localhost:6006/\n",
            "Downloading https://github.com/ultralytics/assets/releases/download/v0.0.0/Arial.ttf to /root/.config/Ultralytics/Arial.ttf...\n",
            "100% 755k/755k [00:00<00:00, 104MB/s]\n",
            "Downloading https://github.com/ultralytics/yolov5/releases/download/v7.0/yolov5s.pt to yolov5s.pt...\n",
            "100% 14.1M/14.1M [00:00<00:00, 53.0MB/s]\n",
            "\n",
            "Overriding model.yaml nc=80 with nc=1\n",
            "\n",
            "                 from  n    params  module                                  arguments                     \n",
            "  0                -1  1      3520  models.common.Conv                      [3, 32, 6, 2, 2]              \n",
            "  1                -1  1     18560  models.common.Conv                      [32, 64, 3, 2]                \n",
            "  2                -1  1     18816  models.common.C3                        [64, 64, 1]                   \n",
            "  3                -1  1     73984  models.common.Conv                      [64, 128, 3, 2]               \n",
            "  4                -1  2    115712  models.common.C3                        [128, 128, 2]                 \n",
            "  5                -1  1    295424  models.common.Conv                      [128, 256, 3, 2]              \n",
            "  6                -1  3    625152  models.common.C3                        [256, 256, 3]                 \n",
            "  7                -1  1   1180672  models.common.Conv                      [256, 512, 3, 2]              \n",
            "  8                -1  1   1182720  models.common.C3                        [512, 512, 1]                 \n",
            "  9                -1  1    656896  models.common.SPPF                      [512, 512, 5]                 \n",
            " 10                -1  1    131584  models.common.Conv                      [512, 256, 1, 1]              \n",
            " 11                -1  1         0  torch.nn.modules.upsampling.Upsample    [None, 2, 'nearest']          \n",
            " 12           [-1, 6]  1         0  models.common.Concat                    [1]                           \n",
            " 13                -1  1    361984  models.common.C3                        [512, 256, 1, False]          \n",
            " 14                -1  1     33024  models.common.Conv                      [256, 128, 1, 1]              \n",
            " 15                -1  1         0  torch.nn.modules.upsampling.Upsample    [None, 2, 'nearest']          \n",
            " 16           [-1, 4]  1         0  models.common.Concat                    [1]                           \n",
            " 17                -1  1     90880  models.common.C3                        [256, 128, 1, False]          \n",
            " 18                -1  1    147712  models.common.Conv                      [128, 128, 3, 2]              \n",
            " 19          [-1, 14]  1         0  models.common.Concat                    [1]                           \n",
            " 20                -1  1    296448  models.common.C3                        [256, 256, 1, False]          \n",
            " 21                -1  1    590336  models.common.Conv                      [256, 256, 3, 2]              \n",
            " 22          [-1, 10]  1         0  models.common.Concat                    [1]                           \n",
            " 23                -1  1   1182720  models.common.C3                        [512, 512, 1, False]          \n",
            " 24      [17, 20, 23]  1     16182  models.yolo.Detect                      [1, [[10, 13, 16, 30, 33, 23], [30, 61, 62, 45, 59, 119], [116, 90, 156, 198, 373, 326]], [128, 256, 512]]\n",
            "Model summary: 214 layers, 7022326 parameters, 7022326 gradients, 15.9 GFLOPs\n",
            "\n",
            "Transferred 343/349 items from yolov5s.pt\n",
            "\u001b[34m\u001b[1mAMP: \u001b[0mchecks passed ✅\n",
            "\u001b[34m\u001b[1moptimizer:\u001b[0m SGD(lr=0.01) with parameter groups 57 weight(decay=0.0), 60 weight(decay=0.0005), 60 bias\n",
            "\u001b[34m\u001b[1malbumentations: \u001b[0m1 validation error for InitSchema\n",
            "size\n",
            "  Field required [type=missing, input_value={'scale': (0.8, 1.0), 'ra...: None, 'strict': False}, input_type=dict]\n",
            "    For further information visit https://errors.pydantic.dev/2.11/v/missing\n",
            "\u001b[34m\u001b[1mtrain: \u001b[0mScanning /content/car_yolo_yolov5/labels/train... 0 images, 433 backgrounds, 0 corrupt: 100% 433/433 [00:00<00:00, 959.90it/s]\n",
            "\u001b[34m\u001b[1mtrain: \u001b[0mWARNING ⚠️ No labels found in /content/car_yolo_yolov5/labels/train.cache. See https://docs.ultralytics.com/yolov5/tutorials/train_custom_data\n",
            "\u001b[34m\u001b[1mtrain: \u001b[0mNew cache created: /content/car_yolo_yolov5/labels/train.cache\n",
            "Traceback (most recent call last):\n",
            "  File \"/content/yolov5/train.py\", line 988, in <module>\n",
            "    main(opt)\n",
            "  File \"/content/yolov5/train.py\", line 690, in main\n",
            "    train(opt.hyp, opt, device, callbacks)\n",
            "  File \"/content/yolov5/train.py\", line 287, in train\n",
            "    train_loader, dataset = create_dataloader(\n",
            "                            ^^^^^^^^^^^^^^^^^^\n",
            "  File \"/content/yolov5/utils/dataloaders.py\", line 184, in create_dataloader\n",
            "    dataset = LoadImagesAndLabels(\n",
            "              ^^^^^^^^^^^^^^^^^^^^\n",
            "  File \"/content/yolov5/utils/dataloaders.py\", line 611, in __init__\n",
            "    assert nf > 0 or not augment, f\"{prefix}No labels found in {cache_path}, can not start training. {HELP_URL}\"\n",
            "           ^^^^^^^^^^^^^^^^^^^^^\n",
            "AssertionError: \u001b[34m\u001b[1mtrain: \u001b[0mNo labels found in /content/car_yolo_yolov5/labels/train.cache, can not start training. See https://docs.ultralytics.com/yolov5/tutorials/train_custom_data\n"
          ]
        }
      ]
    },
    {
      "cell_type": "code",
      "source": [
        "############################# 학습 완료(해외) , 테스트 시작 , 테스트 데이터 (국내) ##########"
      ],
      "metadata": {
        "id": "BR3GqeMHa22T"
      },
      "execution_count": 11,
      "outputs": []
    },
    {
      "cell_type": "code",
      "source": [
        "from google.colab import drive\n",
        "drive.mount('/content/drive')"
      ],
      "metadata": {
        "colab": {
          "base_uri": "https://localhost:8080/"
        },
        "id": "kd9iGnjt0EJc",
        "outputId": "db2348bf-5b65-46a4-824d-5282c4bb8f95"
      },
      "execution_count": 12,
      "outputs": [
        {
          "output_type": "stream",
          "name": "stdout",
          "text": [
            "Drive already mounted at /content/drive; to attempt to forcibly remount, call drive.mount(\"/content/drive\", force_remount=True).\n"
          ]
        }
      ]
    },
    {
      "cell_type": "code",
      "source": [
        "# 예시: Drive에 저장된 테스트 이미지 폴더\n",
        "drive_img_dir = \"/content/drive/MyDrive/Colab Notebooks/test_imgs\"\n",
        "\n",
        "# 복사해서 content/ 아래에 만들기\n",
        "!cp -r \"$drive_img_dir\" /content/test_imgs"
      ],
      "metadata": {
        "id": "32WkMdt8_3Nz"
      },
      "execution_count": 13,
      "outputs": []
    },
    {
      "cell_type": "code",
      "source": [
        "import os\n",
        "\n",
        "label_dir = \"/content/car_yolo_yolov5/labels/train\"\n",
        "\n",
        "rename_count = 0\n",
        "\n",
        "for fname in os.listdir(label_dir):\n",
        "    if fname.endswith(\".png.txt\"):\n",
        "        old_path = os.path.join(label_dir, fname)\n",
        "        new_name = fname.replace(\".png.txt\", \".txt\")\n",
        "        new_path = os.path.join(label_dir, new_name)\n",
        "        os.rename(old_path, new_path)\n",
        "        rename_count += 1\n",
        "\n",
        "print(f\"✅ 이름 수정 완료: {rename_count}개 라벨 파일에서 '.png' 제거됨.\")"
      ],
      "metadata": {
        "colab": {
          "base_uri": "https://localhost:8080/"
        },
        "id": "CGVCfdX64MHx",
        "outputId": "4083e9f9-1eab-4b2f-90c9-c15f63eb9f69"
      },
      "execution_count": 16,
      "outputs": [
        {
          "output_type": "stream",
          "name": "stdout",
          "text": [
            "✅ 이름 수정 완료: 433개 라벨 파일에서 '.png' 제거됨.\n"
          ]
        }
      ]
    },
    {
      "cell_type": "code",
      "source": [
        "# 학습 + .pt 파일 저장용\n",
        "!python train.py \\\n",
        "  --img 640 \\\n",
        "  --batch 16 \\\n",
        "  --epochs 50 \\\n",
        "  --data /content/car_yolo_yolov5/data.yaml \\\n",
        "  --weights yolov5s.pt \\\n",
        "  --name plate_yolo_train \\\n",
        "  --exist-ok \\\n",
        "  --noplots  # nosave 제거 완료 .pt 파일 저장\n"
      ],
      "metadata": {
        "colab": {
          "base_uri": "https://localhost:8080/"
        },
        "id": "_belBoha5w2H",
        "outputId": "1573c0d9-a956-4a93-967c-6383944e7b57"
      },
      "execution_count": 19,
      "outputs": [
        {
          "output_type": "stream",
          "name": "stdout",
          "text": [
            "\u001b[34m\u001b[1mwandb\u001b[0m: WARNING ⚠️ wandb is deprecated and will be removed in a future release. See supported integrations at https://github.com/ultralytics/yolov5#integrations.\n",
            "\u001b[34m\u001b[1mwandb\u001b[0m: (1) Create a W&B account\n",
            "\u001b[34m\u001b[1mwandb\u001b[0m: (2) Use an existing W&B account\n",
            "\u001b[34m\u001b[1mwandb\u001b[0m: (3) Don't visualize my results\n",
            "\u001b[34m\u001b[1mwandb\u001b[0m: Enter your choice: (30 second timeout) \n",
            "\u001b[34m\u001b[1mwandb\u001b[0m: W&B disabled due to login timeout.\n",
            "\u001b[34m\u001b[1mtrain: \u001b[0mweights=yolov5s.pt, cfg=, data=/content/car_yolo_yolov5/data.yaml, hyp=data/hyps/hyp.scratch-low.yaml, epochs=50, batch_size=16, imgsz=640, rect=False, resume=False, nosave=False, noval=False, noautoanchor=False, noplots=True, evolve=None, evolve_population=data/hyps, resume_evolve=None, bucket=, cache=None, image_weights=False, device=, multi_scale=False, single_cls=False, optimizer=SGD, sync_bn=False, workers=8, project=runs/train, name=plate_yolo_train, exist_ok=True, quad=False, cos_lr=False, label_smoothing=0.0, patience=100, freeze=[0], save_period=-1, seed=0, local_rank=-1, entity=None, upload_dataset=False, bbox_interval=-1, artifact_alias=latest, ndjson_console=False, ndjson_file=False\n",
            "\u001b[34m\u001b[1mgithub: \u001b[0mup to date with https://github.com/ultralytics/yolov5 ✅\n",
            "YOLOv5 🚀 v7.0-422-g2540fd4c Python-3.11.13 torch-2.1.0+cu118 CUDA:0 (Tesla T4, 15095MiB)\n",
            "\n",
            "\u001b[34m\u001b[1mhyperparameters: \u001b[0mlr0=0.01, lrf=0.01, momentum=0.937, weight_decay=0.0005, warmup_epochs=3.0, warmup_momentum=0.8, warmup_bias_lr=0.1, box=0.05, cls=0.5, cls_pw=1.0, obj=1.0, obj_pw=1.0, iou_t=0.2, anchor_t=4.0, fl_gamma=0.0, hsv_h=0.015, hsv_s=0.7, hsv_v=0.4, degrees=0.0, translate=0.1, scale=0.5, shear=0.0, perspective=0.0, flipud=0.0, fliplr=0.5, mosaic=1.0, mixup=0.0, copy_paste=0.0\n",
            "\u001b[34m\u001b[1mComet: \u001b[0mrun 'pip install comet_ml' to automatically track and visualize YOLOv5 🚀 runs in Comet\n",
            "\u001b[34m\u001b[1mTensorBoard: \u001b[0mStart with 'tensorboard --logdir runs/train', view at http://localhost:6006/\n",
            "Overriding model.yaml nc=80 with nc=1\n",
            "\n",
            "                 from  n    params  module                                  arguments                     \n",
            "  0                -1  1      3520  models.common.Conv                      [3, 32, 6, 2, 2]              \n",
            "  1                -1  1     18560  models.common.Conv                      [32, 64, 3, 2]                \n",
            "  2                -1  1     18816  models.common.C3                        [64, 64, 1]                   \n",
            "  3                -1  1     73984  models.common.Conv                      [64, 128, 3, 2]               \n",
            "  4                -1  2    115712  models.common.C3                        [128, 128, 2]                 \n",
            "  5                -1  1    295424  models.common.Conv                      [128, 256, 3, 2]              \n",
            "  6                -1  3    625152  models.common.C3                        [256, 256, 3]                 \n",
            "  7                -1  1   1180672  models.common.Conv                      [256, 512, 3, 2]              \n",
            "  8                -1  1   1182720  models.common.C3                        [512, 512, 1]                 \n",
            "  9                -1  1    656896  models.common.SPPF                      [512, 512, 5]                 \n",
            " 10                -1  1    131584  models.common.Conv                      [512, 256, 1, 1]              \n",
            " 11                -1  1         0  torch.nn.modules.upsampling.Upsample    [None, 2, 'nearest']          \n",
            " 12           [-1, 6]  1         0  models.common.Concat                    [1]                           \n",
            " 13                -1  1    361984  models.common.C3                        [512, 256, 1, False]          \n",
            " 14                -1  1     33024  models.common.Conv                      [256, 128, 1, 1]              \n",
            " 15                -1  1         0  torch.nn.modules.upsampling.Upsample    [None, 2, 'nearest']          \n",
            " 16           [-1, 4]  1         0  models.common.Concat                    [1]                           \n",
            " 17                -1  1     90880  models.common.C3                        [256, 128, 1, False]          \n",
            " 18                -1  1    147712  models.common.Conv                      [128, 128, 3, 2]              \n",
            " 19          [-1, 14]  1         0  models.common.Concat                    [1]                           \n",
            " 20                -1  1    296448  models.common.C3                        [256, 256, 1, False]          \n",
            " 21                -1  1    590336  models.common.Conv                      [256, 256, 3, 2]              \n",
            " 22          [-1, 10]  1         0  models.common.Concat                    [1]                           \n",
            " 23                -1  1   1182720  models.common.C3                        [512, 512, 1, False]          \n",
            " 24      [17, 20, 23]  1     16182  models.yolo.Detect                      [1, [[10, 13, 16, 30, 33, 23], [30, 61, 62, 45, 59, 119], [116, 90, 156, 198, 373, 326]], [128, 256, 512]]\n",
            "Model summary: 214 layers, 7022326 parameters, 7022326 gradients, 15.9 GFLOPs\n",
            "\n",
            "Transferred 343/349 items from yolov5s.pt\n",
            "\u001b[34m\u001b[1mAMP: \u001b[0mchecks passed ✅\n",
            "\u001b[34m\u001b[1moptimizer:\u001b[0m SGD(lr=0.01) with parameter groups 57 weight(decay=0.0), 60 weight(decay=0.0005), 60 bias\n",
            "\u001b[34m\u001b[1malbumentations: \u001b[0m1 validation error for InitSchema\n",
            "size\n",
            "  Field required [type=missing, input_value={'scale': (0.8, 1.0), 'ra...: None, 'strict': False}, input_type=dict]\n",
            "    For further information visit https://errors.pydantic.dev/2.11/v/missing\n",
            "\u001b[34m\u001b[1mtrain: \u001b[0mScanning /content/car_yolo_yolov5/labels/train... 433 images, 0 backgrounds, 0 corrupt: 100% 433/433 [00:00<00:00, 783.14it/s]\n",
            "\u001b[34m\u001b[1mtrain: \u001b[0mNew cache created: /content/car_yolo_yolov5/labels/train.cache\n",
            "\u001b[34m\u001b[1mval: \u001b[0mScanning /content/car_yolo_yolov5/labels/train.cache... 433 images, 0 backgrounds, 0 corrupt: 100% 433/433 [00:00<?, ?it/s]\n",
            "\n",
            "\u001b[34m\u001b[1mAutoAnchor: \u001b[0m4.07 anchors/target, 1.000 Best Possible Recall (BPR). Current anchors are a good fit to dataset ✅\n",
            "Image sizes 640 train, 640 val\n",
            "Using 2 dataloader workers\n",
            "Logging results to \u001b[1mruns/train/plate_yolo_train\u001b[0m\n",
            "Starting training for 50 epochs...\n",
            "\n",
            "      Epoch    GPU_mem   box_loss   obj_loss   cls_loss  Instances       Size\n",
            "       0/49      3.46G     0.1068    0.02706          0          2        640: 100% 28/28 [00:28<00:00,  1.01s/it]\n",
            "                 Class     Images  Instances          P          R      mAP50   mAP50-95: 100% 14/14 [00:12<00:00,  1.16it/s]\n",
            "                   all        433        471    0.00158      0.435    0.00241    0.00054\n",
            "\n",
            "      Epoch    GPU_mem   box_loss   obj_loss   cls_loss  Instances       Size\n",
            "       1/49      4.79G    0.08553    0.02148          0          2        640: 100% 28/28 [00:21<00:00,  1.33it/s]\n",
            "                 Class     Images  Instances          P          R      mAP50   mAP50-95: 100% 14/14 [00:10<00:00,  1.31it/s]\n",
            "                   all        433        471      0.493      0.244      0.265      0.094\n",
            "\n",
            "      Epoch    GPU_mem   box_loss   obj_loss   cls_loss  Instances       Size\n",
            "       2/49      4.79G    0.07354    0.01945          0          1        640: 100% 28/28 [00:22<00:00,  1.24it/s]\n",
            "                 Class     Images  Instances          P          R      mAP50   mAP50-95: 100% 14/14 [00:08<00:00,  1.58it/s]\n",
            "                   all        433        471      0.487      0.289       0.29     0.0971\n",
            "\n",
            "      Epoch    GPU_mem   box_loss   obj_loss   cls_loss  Instances       Size\n",
            "       3/49      4.79G    0.06363    0.01864          0          1        640: 100% 28/28 [00:22<00:00,  1.23it/s]\n",
            "                 Class     Images  Instances          P          R      mAP50   mAP50-95: 100% 14/14 [00:09<00:00,  1.52it/s]\n",
            "                   all        433        471      0.536      0.397      0.437      0.136\n",
            "\n",
            "      Epoch    GPU_mem   box_loss   obj_loss   cls_loss  Instances       Size\n",
            "       4/49      4.79G    0.05668    0.01801          0          1        640: 100% 28/28 [00:21<00:00,  1.31it/s]\n",
            "                 Class     Images  Instances          P          R      mAP50   mAP50-95: 100% 14/14 [00:10<00:00,  1.39it/s]\n",
            "                   all        433        471      0.562      0.563      0.521      0.149\n",
            "\n",
            "      Epoch    GPU_mem   box_loss   obj_loss   cls_loss  Instances       Size\n",
            "       5/49      4.79G    0.05229    0.01703          0          3        640: 100% 28/28 [00:21<00:00,  1.33it/s]\n",
            "                 Class     Images  Instances          P          R      mAP50   mAP50-95: 100% 14/14 [00:10<00:00,  1.35it/s]\n",
            "                   all        433        471       0.64      0.527      0.616      0.213\n",
            "\n",
            "      Epoch    GPU_mem   box_loss   obj_loss   cls_loss  Instances       Size\n",
            "       6/49      4.79G    0.04899    0.01482          0          2        640: 100% 28/28 [00:22<00:00,  1.25it/s]\n",
            "                 Class     Images  Instances          P          R      mAP50   mAP50-95: 100% 14/14 [00:08<00:00,  1.68it/s]\n",
            "                   all        433        471      0.638      0.681      0.713      0.221\n",
            "\n",
            "      Epoch    GPU_mem   box_loss   obj_loss   cls_loss  Instances       Size\n",
            "       7/49      4.79G    0.04758    0.01295          0          2        640: 100% 28/28 [00:22<00:00,  1.23it/s]\n",
            "                 Class     Images  Instances          P          R      mAP50   mAP50-95: 100% 14/14 [00:08<00:00,  1.71it/s]\n",
            "                   all        433        471      0.774      0.707      0.778      0.276\n",
            "\n",
            "      Epoch    GPU_mem   box_loss   obj_loss   cls_loss  Instances       Size\n",
            "       8/49      4.79G    0.04579    0.01229          0          2        640: 100% 28/28 [00:22<00:00,  1.22it/s]\n",
            "                 Class     Images  Instances          P          R      mAP50   mAP50-95: 100% 14/14 [00:10<00:00,  1.40it/s]\n",
            "                   all        433        471      0.808      0.788      0.848      0.332\n",
            "\n",
            "      Epoch    GPU_mem   box_loss   obj_loss   cls_loss  Instances       Size\n",
            "       9/49      4.79G      0.042    0.01144          0          2        640: 100% 28/28 [00:21<00:00,  1.31it/s]\n",
            "                 Class     Images  Instances          P          R      mAP50   mAP50-95: 100% 14/14 [00:10<00:00,  1.37it/s]\n",
            "                   all        433        471      0.914      0.834      0.921      0.454\n",
            "\n",
            "      Epoch    GPU_mem   box_loss   obj_loss   cls_loss  Instances       Size\n",
            "      10/49      4.79G    0.04098    0.01123          0          4        640: 100% 28/28 [00:22<00:00,  1.26it/s]\n",
            "                 Class     Images  Instances          P          R      mAP50   mAP50-95: 100% 14/14 [00:09<00:00,  1.48it/s]\n",
            "                   all        433        471      0.911       0.89      0.941      0.464\n",
            "\n",
            "      Epoch    GPU_mem   box_loss   obj_loss   cls_loss  Instances       Size\n",
            "      11/49      4.79G    0.03969    0.01002          0          2        640: 100% 28/28 [00:23<00:00,  1.21it/s]\n",
            "                 Class     Images  Instances          P          R      mAP50   mAP50-95: 100% 14/14 [00:08<00:00,  1.57it/s]\n",
            "                   all        433        471      0.851      0.866      0.922      0.506\n",
            "\n",
            "      Epoch    GPU_mem   box_loss   obj_loss   cls_loss  Instances       Size\n",
            "      12/49      4.79G    0.03957   0.009212          0          1        640: 100% 28/28 [00:22<00:00,  1.24it/s]\n",
            "                 Class     Images  Instances          P          R      mAP50   mAP50-95: 100% 14/14 [00:10<00:00,  1.38it/s]\n",
            "                   all        433        471      0.934      0.906      0.948      0.464\n",
            "\n",
            "      Epoch    GPU_mem   box_loss   obj_loss   cls_loss  Instances       Size\n",
            "      13/49      4.79G    0.03723    0.00935          0          1        640: 100% 28/28 [00:21<00:00,  1.29it/s]\n",
            "                 Class     Images  Instances          P          R      mAP50   mAP50-95: 100% 14/14 [00:10<00:00,  1.37it/s]\n",
            "                   all        433        471      0.911       0.95      0.959      0.552\n",
            "\n",
            "      Epoch    GPU_mem   box_loss   obj_loss   cls_loss  Instances       Size\n",
            "      14/49      4.79G    0.03665   0.008753          0          2        640: 100% 28/28 [00:22<00:00,  1.26it/s]\n",
            "                 Class     Images  Instances          P          R      mAP50   mAP50-95: 100% 14/14 [00:09<00:00,  1.51it/s]\n",
            "                   all        433        471      0.929      0.911      0.963       0.53\n",
            "\n",
            "      Epoch    GPU_mem   box_loss   obj_loss   cls_loss  Instances       Size\n",
            "      15/49      4.79G    0.03614   0.008884          0          2        640: 100% 28/28 [00:23<00:00,  1.21it/s]\n",
            "                 Class     Images  Instances          P          R      mAP50   mAP50-95: 100% 14/14 [00:08<00:00,  1.62it/s]\n",
            "                   all        433        471      0.905      0.951      0.962      0.562\n",
            "\n",
            "      Epoch    GPU_mem   box_loss   obj_loss   cls_loss  Instances       Size\n",
            "      16/49      4.79G    0.03328   0.009009          0          1        640: 100% 28/28 [00:22<00:00,  1.24it/s]\n",
            "                 Class     Images  Instances          P          R      mAP50   mAP50-95: 100% 14/14 [00:09<00:00,  1.43it/s]\n",
            "                   all        433        471      0.932      0.915      0.961      0.531\n",
            "\n",
            "      Epoch    GPU_mem   box_loss   obj_loss   cls_loss  Instances       Size\n",
            "      17/49      4.79G    0.03338    0.00824          0          0        640: 100% 28/28 [00:21<00:00,  1.33it/s]\n",
            "                 Class     Images  Instances          P          R      mAP50   mAP50-95: 100% 14/14 [00:10<00:00,  1.37it/s]\n",
            "                   all        433        471      0.923      0.943      0.975      0.607\n",
            "\n",
            "      Epoch    GPU_mem   box_loss   obj_loss   cls_loss  Instances       Size\n",
            "      18/49      4.79G    0.03408   0.008419          0          4        640: 100% 28/28 [00:21<00:00,  1.29it/s]\n",
            "                 Class     Images  Instances          P          R      mAP50   mAP50-95: 100% 14/14 [00:10<00:00,  1.38it/s]\n",
            "                   all        433        471      0.929      0.958      0.967      0.532\n",
            "\n",
            "      Epoch    GPU_mem   box_loss   obj_loss   cls_loss  Instances       Size\n",
            "      19/49      4.79G    0.03233   0.008255          0          1        640: 100% 28/28 [00:23<00:00,  1.19it/s]\n",
            "                 Class     Images  Instances          P          R      mAP50   mAP50-95: 100% 14/14 [00:08<00:00,  1.68it/s]\n",
            "                   all        433        471      0.945      0.928      0.971      0.587\n",
            "\n",
            "      Epoch    GPU_mem   box_loss   obj_loss   cls_loss  Instances       Size\n",
            "      20/49      4.79G     0.0336   0.008177          0          1        640: 100% 28/28 [00:23<00:00,  1.21it/s]\n",
            "                 Class     Images  Instances          P          R      mAP50   mAP50-95: 100% 14/14 [00:09<00:00,  1.44it/s]\n",
            "                   all        433        471       0.94      0.938      0.975      0.592\n",
            "\n",
            "      Epoch    GPU_mem   box_loss   obj_loss   cls_loss  Instances       Size\n",
            "      21/49      4.79G    0.03238   0.008197          0          2        640: 100% 28/28 [00:21<00:00,  1.30it/s]\n",
            "                 Class     Images  Instances          P          R      mAP50   mAP50-95: 100% 14/14 [00:10<00:00,  1.36it/s]\n",
            "                   all        433        471      0.929      0.977      0.979      0.623\n",
            "\n",
            "      Epoch    GPU_mem   box_loss   obj_loss   cls_loss  Instances       Size\n",
            "      22/49      4.79G    0.03089   0.008164          0          4        640: 100% 28/28 [00:21<00:00,  1.33it/s]\n",
            "                 Class     Images  Instances          P          R      mAP50   mAP50-95: 100% 14/14 [00:10<00:00,  1.31it/s]\n",
            "                   all        433        471      0.936      0.958      0.975      0.605\n",
            "\n",
            "      Epoch    GPU_mem   box_loss   obj_loss   cls_loss  Instances       Size\n",
            "      23/49      4.79G    0.03002   0.007842          0          2        640: 100% 28/28 [00:22<00:00,  1.24it/s]\n",
            "                 Class     Images  Instances          P          R      mAP50   mAP50-95: 100% 14/14 [00:09<00:00,  1.55it/s]\n",
            "                   all        433        471      0.921      0.941      0.965      0.597\n",
            "\n",
            "      Epoch    GPU_mem   box_loss   obj_loss   cls_loss  Instances       Size\n",
            "      24/49      4.79G    0.03012   0.007779          0          1        640: 100% 28/28 [00:23<00:00,  1.21it/s]\n",
            "                 Class     Images  Instances          P          R      mAP50   mAP50-95: 100% 14/14 [00:09<00:00,  1.53it/s]\n",
            "                   all        433        471       0.93      0.964      0.966      0.576\n",
            "\n",
            "      Epoch    GPU_mem   box_loss   obj_loss   cls_loss  Instances       Size\n",
            "      25/49      4.79G    0.03074   0.007687          0          2        640: 100% 28/28 [00:22<00:00,  1.24it/s]\n",
            "                 Class     Images  Instances          P          R      mAP50   mAP50-95: 100% 14/14 [00:10<00:00,  1.38it/s]\n",
            "                   all        433        471      0.935      0.971      0.971      0.636\n",
            "\n",
            "      Epoch    GPU_mem   box_loss   obj_loss   cls_loss  Instances       Size\n",
            "      26/49      4.79G    0.02796   0.007699          0          1        640: 100% 28/28 [00:21<00:00,  1.30it/s]\n",
            "                 Class     Images  Instances          P          R      mAP50   mAP50-95: 100% 14/14 [00:10<00:00,  1.35it/s]\n",
            "                   all        433        471      0.931      0.967      0.972      0.614\n",
            "\n",
            "      Epoch    GPU_mem   box_loss   obj_loss   cls_loss  Instances       Size\n",
            "      27/49      4.79G    0.02907   0.007837          0          1        640: 100% 28/28 [00:22<00:00,  1.23it/s]\n",
            "                 Class     Images  Instances          P          R      mAP50   mAP50-95: 100% 14/14 [00:09<00:00,  1.50it/s]\n",
            "                   all        433        471       0.95      0.973      0.985      0.659\n",
            "\n",
            "      Epoch    GPU_mem   box_loss   obj_loss   cls_loss  Instances       Size\n",
            "      28/49      4.79G    0.02806   0.007437          0          4        640: 100% 28/28 [00:23<00:00,  1.21it/s]\n",
            "                 Class     Images  Instances          P          R      mAP50   mAP50-95: 100% 14/14 [00:08<00:00,  1.57it/s]\n",
            "                   all        433        471      0.929      0.976      0.978      0.634\n",
            "\n",
            "      Epoch    GPU_mem   box_loss   obj_loss   cls_loss  Instances       Size\n",
            "      29/49      4.79G    0.02838    0.00817          0          1        640: 100% 28/28 [00:22<00:00,  1.24it/s]\n",
            "                 Class     Images  Instances          P          R      mAP50   mAP50-95: 100% 14/14 [00:10<00:00,  1.36it/s]\n",
            "                   all        433        471       0.95      0.973      0.981      0.652\n",
            "\n",
            "      Epoch    GPU_mem   box_loss   obj_loss   cls_loss  Instances       Size\n",
            "      30/49      4.79G    0.02781   0.007255          0          2        640: 100% 28/28 [00:21<00:00,  1.31it/s]\n",
            "                 Class     Images  Instances          P          R      mAP50   mAP50-95: 100% 14/14 [00:10<00:00,  1.34it/s]\n",
            "                   all        433        471      0.943      0.976      0.987      0.663\n",
            "\n",
            "      Epoch    GPU_mem   box_loss   obj_loss   cls_loss  Instances       Size\n",
            "      31/49      4.79G    0.02684   0.007484          0          1        640: 100% 28/28 [00:22<00:00,  1.24it/s]\n",
            "                 Class     Images  Instances          P          R      mAP50   mAP50-95: 100% 14/14 [00:09<00:00,  1.47it/s]\n",
            "                   all        433        471      0.962      0.972      0.988      0.673\n",
            "\n",
            "      Epoch    GPU_mem   box_loss   obj_loss   cls_loss  Instances       Size\n",
            "      32/49      4.79G    0.02958   0.007386          0          2        640: 100% 28/28 [00:23<00:00,  1.19it/s]\n",
            "                 Class     Images  Instances          P          R      mAP50   mAP50-95: 100% 14/14 [00:08<00:00,  1.62it/s]\n",
            "                   all        433        471      0.953       0.98       0.98      0.672\n",
            "\n",
            "      Epoch    GPU_mem   box_loss   obj_loss   cls_loss  Instances       Size\n",
            "      33/49      4.79G    0.02712    0.00735          0          1        640: 100% 28/28 [00:22<00:00,  1.24it/s]\n",
            "                 Class     Images  Instances          P          R      mAP50   mAP50-95: 100% 14/14 [00:10<00:00,  1.38it/s]\n",
            "                   all        433        471      0.954      0.983      0.982      0.688\n",
            "\n",
            "      Epoch    GPU_mem   box_loss   obj_loss   cls_loss  Instances       Size\n",
            "      34/49      4.79G    0.02505   0.007331          0          4        640: 100% 28/28 [00:21<00:00,  1.32it/s]\n",
            "                 Class     Images  Instances          P          R      mAP50   mAP50-95: 100% 14/14 [00:10<00:00,  1.33it/s]\n",
            "                   all        433        471      0.957      0.981      0.983      0.693\n",
            "\n",
            "      Epoch    GPU_mem   box_loss   obj_loss   cls_loss  Instances       Size\n",
            "      35/49      4.79G    0.02622   0.007553          0          3        640: 100% 28/28 [00:21<00:00,  1.29it/s]\n",
            "                 Class     Images  Instances          P          R      mAP50   mAP50-95: 100% 14/14 [00:09<00:00,  1.42it/s]\n",
            "                   all        433        471      0.957      0.983      0.983      0.693\n",
            "\n",
            "      Epoch    GPU_mem   box_loss   obj_loss   cls_loss  Instances       Size\n",
            "      36/49      4.79G    0.02381   0.006819          0          1        640: 100% 28/28 [00:22<00:00,  1.24it/s]\n",
            "                 Class     Images  Instances          P          R      mAP50   mAP50-95: 100% 14/14 [00:08<00:00,  1.56it/s]\n",
            "                   all        433        471      0.959      0.985      0.983      0.683\n",
            "\n",
            "      Epoch    GPU_mem   box_loss   obj_loss   cls_loss  Instances       Size\n",
            "      37/49      4.79G    0.02373   0.006761          0          0        640: 100% 28/28 [00:23<00:00,  1.20it/s]\n",
            "                 Class     Images  Instances          P          R      mAP50   mAP50-95: 100% 14/14 [00:09<00:00,  1.51it/s]\n",
            "                   all        433        471      0.959      0.981      0.985       0.71\n",
            "\n",
            "      Epoch    GPU_mem   box_loss   obj_loss   cls_loss  Instances       Size\n",
            "      38/49      4.79G    0.02398   0.007638          0          2        640: 100% 28/28 [00:21<00:00,  1.31it/s]\n",
            "                 Class     Images  Instances          P          R      mAP50   mAP50-95: 100% 14/14 [00:10<00:00,  1.37it/s]\n",
            "                   all        433        471      0.968      0.972      0.986      0.708\n",
            "\n",
            "      Epoch    GPU_mem   box_loss   obj_loss   cls_loss  Instances       Size\n",
            "      39/49      4.79G     0.0243   0.006872          0          1        640: 100% 28/28 [00:21<00:00,  1.31it/s]\n",
            "                 Class     Images  Instances          P          R      mAP50   mAP50-95: 100% 14/14 [00:09<00:00,  1.43it/s]\n",
            "                   all        433        471      0.966      0.983      0.987      0.705\n",
            "\n",
            "      Epoch    GPU_mem   box_loss   obj_loss   cls_loss  Instances       Size\n",
            "      40/49      4.79G     0.0238   0.007155          0          4        640: 100% 28/28 [00:22<00:00,  1.25it/s]\n",
            "                 Class     Images  Instances          P          R      mAP50   mAP50-95: 100% 14/14 [00:08<00:00,  1.67it/s]\n",
            "                   all        433        471      0.957      0.989      0.985      0.716\n",
            "\n",
            "      Epoch    GPU_mem   box_loss   obj_loss   cls_loss  Instances       Size\n",
            "      41/49      4.79G    0.02242    0.00691          0          1        640: 100% 28/28 [00:22<00:00,  1.24it/s]\n",
            "                 Class     Images  Instances          P          R      mAP50   mAP50-95: 100% 14/14 [00:09<00:00,  1.46it/s]\n",
            "                   all        433        471      0.952      0.985      0.982      0.723\n",
            "\n",
            "      Epoch    GPU_mem   box_loss   obj_loss   cls_loss  Instances       Size\n",
            "      42/49      4.79G    0.02359   0.006789          0          1        640: 100% 28/28 [00:21<00:00,  1.29it/s]\n",
            "                 Class     Images  Instances          P          R      mAP50   mAP50-95: 100% 14/14 [00:09<00:00,  1.41it/s]\n",
            "                   all        433        471      0.949      0.987      0.984      0.723\n",
            "\n",
            "      Epoch    GPU_mem   box_loss   obj_loss   cls_loss  Instances       Size\n",
            "      43/49      4.79G    0.02316   0.006861          0          2        640: 100% 28/28 [00:21<00:00,  1.33it/s]\n",
            "                 Class     Images  Instances          P          R      mAP50   mAP50-95: 100% 14/14 [00:10<00:00,  1.33it/s]\n",
            "                   all        433        471      0.953      0.988      0.986      0.713\n",
            "\n",
            "      Epoch    GPU_mem   box_loss   obj_loss   cls_loss  Instances       Size\n",
            "      44/49      4.79G    0.02166    0.00667          0          1        640: 100% 28/28 [00:22<00:00,  1.26it/s]\n",
            "                 Class     Images  Instances          P          R      mAP50   mAP50-95: 100% 14/14 [00:09<00:00,  1.49it/s]\n",
            "                   all        433        471      0.958      0.977      0.984      0.728\n",
            "\n",
            "      Epoch    GPU_mem   box_loss   obj_loss   cls_loss  Instances       Size\n",
            "      45/49      4.79G    0.02236   0.006734          0          1        640: 100% 28/28 [00:23<00:00,  1.20it/s]\n",
            "                 Class     Images  Instances          P          R      mAP50   mAP50-95: 100% 14/14 [00:08<00:00,  1.65it/s]\n",
            "                   all        433        471      0.961      0.983      0.985       0.74\n",
            "\n",
            "      Epoch    GPU_mem   box_loss   obj_loss   cls_loss  Instances       Size\n",
            "      46/49      4.79G    0.02119   0.006399          0          1        640: 100% 28/28 [00:22<00:00,  1.26it/s]\n",
            "                 Class     Images  Instances          P          R      mAP50   mAP50-95: 100% 14/14 [00:10<00:00,  1.36it/s]\n",
            "                   all        433        471      0.963      0.981      0.985       0.74\n",
            "\n",
            "      Epoch    GPU_mem   box_loss   obj_loss   cls_loss  Instances       Size\n",
            "      47/49      4.79G    0.02226   0.006933          0          4        640: 100% 28/28 [00:21<00:00,  1.32it/s]\n",
            "                 Class     Images  Instances          P          R      mAP50   mAP50-95: 100% 14/14 [00:10<00:00,  1.38it/s]\n",
            "                   all        433        471       0.96      0.981      0.986      0.738\n",
            "\n",
            "      Epoch    GPU_mem   box_loss   obj_loss   cls_loss  Instances       Size\n",
            "      48/49      4.79G     0.0218   0.006778          0          3        640: 100% 28/28 [00:21<00:00,  1.30it/s]\n",
            "                 Class     Images  Instances          P          R      mAP50   mAP50-95: 100% 14/14 [00:09<00:00,  1.47it/s]\n",
            "                   all        433        471      0.955      0.989      0.986      0.743\n",
            "\n",
            "      Epoch    GPU_mem   box_loss   obj_loss   cls_loss  Instances       Size\n",
            "      49/49      4.79G     0.0215   0.006832          0          2        640: 100% 28/28 [00:22<00:00,  1.24it/s]\n",
            "                 Class     Images  Instances          P          R      mAP50   mAP50-95: 100% 14/14 [00:08<00:00,  1.59it/s]\n",
            "                   all        433        471      0.956      0.989      0.986      0.749\n",
            "\n",
            "50 epochs completed in 0.458 hours.\n",
            "Optimizer stripped from runs/train/plate_yolo_train/weights/last.pt, 14.4MB\n",
            "Optimizer stripped from runs/train/plate_yolo_train/weights/best.pt, 14.4MB\n",
            "\n",
            "Validating runs/train/plate_yolo_train/weights/best.pt...\n",
            "Fusing layers... \n",
            "Model summary: 157 layers, 7012822 parameters, 0 gradients, 15.8 GFLOPs\n",
            "                 Class     Images  Instances          P          R      mAP50   mAP50-95: 100% 14/14 [00:07<00:00,  1.86it/s]\n",
            "                   all        433        471      0.956      0.989      0.986      0.748\n",
            "Results saved to \u001b[1mruns/train/plate_yolo_train\u001b[0m\n"
          ]
        }
      ]
    },
    {
      "cell_type": "code",
      "source": [
        "import shutil\n",
        "\n",
        "src = \"runs/train/plate_yolo_train/weights/best.pt\"\n",
        "dst = \"/content/drive/MyDrive/Colab Notebooks/best.pt\"\n",
        "\n",
        "shutil.copy(src, dst)\n",
        "print(\"✅ YOLO 모델이 Google Drive에 저장되었습니다:\", dst)\n"
      ],
      "metadata": {
        "colab": {
          "base_uri": "https://localhost:8080/"
        },
        "id": "gtaR45Q0AfrF",
        "outputId": "8b39fd1e-b3dc-4e36-9867-4fb5ba2c7f3b"
      },
      "execution_count": 20,
      "outputs": [
        {
          "output_type": "stream",
          "name": "stdout",
          "text": [
            "✅ YOLO 모델이 Google Drive에 저장되었습니다: /content/drive/MyDrive/Colab Notebooks/best.pt\n"
          ]
        }
      ]
    },
    {
      "cell_type": "code",
      "source": [
        "import pandas as pd\n",
        "import matplotlib.pyplot as plt\n",
        "\n",
        "df = pd.read_csv('/content/yolov5/runs/train/plate_yolo_train/results.csv')\n",
        "df.columns = df.columns.str.strip()  # 공백 제거\n",
        "\n",
        "\n",
        "# 마지막 에폭 값 추출\n",
        "final_metrics = df.iloc[-1][['metrics/precision', 'metrics/recall', 'metrics/mAP_0.5', 'metrics/mAP_0.5:0.95']]\n",
        "print(\"📊 Final Validation Metrics:\")\n",
        "print(final_metrics)\n",
        "\n",
        "# F1 Score 계산\n",
        "precision = final_metrics['metrics/precision']\n",
        "recall = final_metrics['metrics/recall']\n",
        "f1_score = 2 * (precision * recall) / (precision + recall)\n",
        "print(f\"\\n📌 F1 Score: {f1_score:.4f}\")\n",
        "\n",
        "# 원하는 컬럼만 시각화\n",
        "df[['metrics/precision', 'metrics/recall', 'metrics/mAP_0.5', 'metrics/mAP_0.5:0.95']].plot()\n",
        "plt.title(\"YOLOv5 Detection Metrics\")\n",
        "plt.xlabel(\"Epoch\")\n",
        "plt.ylabel(\"Score\")\n",
        "plt.grid(True)\n",
        "plt.show()\n"
      ],
      "metadata": {
        "colab": {
          "base_uri": "https://localhost:8080/",
          "height": 617
        },
        "id": "z2x8gqvqVOBA",
        "outputId": "de76df16-58fa-4755-c7a8-610aab50f83b"
      },
      "execution_count": 21,
      "outputs": [
        {
          "output_type": "stream",
          "name": "stdout",
          "text": [
            "📊 Final Validation Metrics:\n",
            "metrics/precision       0.95631\n",
            "metrics/recall          0.98938\n",
            "metrics/mAP_0.5         0.98563\n",
            "metrics/mAP_0.5:0.95    0.74879\n",
            "Name: 49, dtype: float64\n",
            "\n",
            "📌 F1 Score: 0.9726\n"
          ]
        },
        {
          "output_type": "display_data",
          "data": {
            "text/plain": [
              "<Figure size 640x480 with 1 Axes>"
            ],
            "image/png": "[encoded data removed]"
          },
          "metadata": {}
        }
      ]
    },
    {
      "cell_type": "code",
      "source": [
        "#버전 확인 코드-------------------------------------------------------\n",
        "\n",
        "import sys\n",
        "import pkg_resources\n",
        "\n",
        "# Python\n",
        "print(\"Python:\", sys.version.replace(\"\\n\", \" \"))\n",
        "\n",
        "# 패키지 리스트\n",
        "packages = [\n",
        "    \"numpy\",\n",
        "    \"torch\",\n",
        "    \"torchvision\",\n",
        "    \"torchaudio\",\n",
        "    \"opencv-python\",\n",
        "    \"Pillow\",\n",
        "    \"easyocr\",\n",
        "    \"jax\",\n",
        "    \"jaxlib\",\n",
        "    \"tensorboard\",\n",
        "    \"tensorflow\",\n",
        "]\n",
        "\n",
        "for pkg in packages:\n",
        "    try:\n",
        "        v = pkg_resources.get_distribution(pkg).version\n",
        "    except pkg_resources.DistributionNotFound:\n",
        "        v = \"Not installed\"\n",
        "    print(f\"{pkg}: {v}\")\n",
        "\n",
        "# CUDA 사용 가능 여부 및 디바이스 정보 (PyTorch 기준)\n",
        "import torch\n",
        "print(\"CUDA available:\", torch.cuda.is_available())\n",
        "if torch.cuda.is_available():\n",
        "    print(\"CUDA device:\", torch.cuda.get_device_name(0))\n"
      ],
      "metadata": {
        "colab": {
          "base_uri": "https://localhost:8080/"
        },
        "id": "x5BNBm_nh0Di",
        "outputId": "622dce94-0998-4d26-b000-b4914a10f778"
      },
      "execution_count": 22,
      "outputs": [
        {
          "output_type": "stream",
          "name": "stdout",
          "text": [
            "Python: 3.11.13 (main, Jun  4 2025, 08:57:29) [GCC 11.4.0]\n",
            "numpy: 1.24.3\n",
            "torch: 2.1.0+cu118\n",
            "torchvision: 0.16.0+cu118\n",
            "torchaudio: 2.1.0+cu118\n",
            "opencv-python: 4.11.0.86\n",
            "Pillow: 11.2.1\n",
            "easyocr: Not installed\n",
            "jax: 0.5.2\n",
            "jaxlib: 0.5.1\n",
            "tensorboard: 2.18.0\n",
            "tensorflow: 2.18.0\n",
            "CUDA available: True\n",
            "CUDA device: Tesla T4\n"
          ]
        }
      ]
    },
    {
      "cell_type": "code",
      "source": [
        "## .png 삭제해서 라벨이랑 이미지 파일 이름 맞췄음\n",
        "''' import os\n",
        "\n",
        "label_dir = \"/content/car_yolo_yolov5/labels/train\"\n",
        "\n",
        "rename_count = 0\n",
        "\n",
        "for fname in os.listdir(label_dir):\n",
        "    if fname.endswith(\".png.txt\"):\n",
        "        old_path = os.path.join(label_dir, fname)\n",
        "        new_name = fname.replace(\".png.txt\", \".txt\")\n",
        "        new_path = os.path.join(label_dir, new_name)\n",
        "        os.rename(old_path, new_path)\n",
        "        rename_count += 1\n",
        "\n",
        "print(f\"✅ 이름 수정 완료: {rename_count}개 라벨 파일에서 '.png' 제거됨.\")\n",
        " '''"
      ],
      "metadata": {
        "id": "VMj9j7C_FQci"
      },
      "execution_count": null,
      "outputs": []
    },
    {
      "cell_type": "code",
      "source": [
        "# 잘 되었는지 확인\n",
        "''' img_files = sorted([f[:-4] for f in os.listdir(\"/content/car_yolo_yolov5/images/train\")])\n",
        "label_files = sorted([f[:-4] for f in os.listdir(\"/content/car_yolo_yolov5/labels/train\")])\n",
        "\n",
        "missing_labels = [f for f in img_files if f not in label_files]\n",
        "print(\"❌ 라벨 없는 이미지 수:\", len(missing_labels)) '''\n"
      ],
      "metadata": {
        "id": "g9234D-RGv_J"
      },
      "execution_count": null,
      "outputs": []
    },
    {
      "cell_type": "code",
      "source": [
        "# TensorBoard, TensorFlow, JAX 모두 언인스톨\n",
        "%pip uninstall -y tensorboard tensorflow jax jaxlib\n",
        "\n",
        "# 확인용으로 한 번 더 tensorboard가 남아 있는지 체크\n",
        "%pip show tensorboard\n"
      ],
      "metadata": {
        "id": "4zN5ZfhwdeG0"
      },
      "execution_count": null,
      "outputs": []
    }
  ]
}